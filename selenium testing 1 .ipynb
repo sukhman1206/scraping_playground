{
 "cells": [
  {
   "cell_type": "code",
   "execution_count": 586,
   "metadata": {},
   "outputs": [],
   "source": [
    "from selenium import webdriver\n",
    "from selenium.webdriver.common.keys import Keys\n",
    "import pandas as pd\n",
    "import time\n",
    "from selenium.webdriver.support.ui import Select\n",
    "from selenium.webdriver.common.by import By\n"
   ]
  },
  {
   "cell_type": "code",
   "execution_count": 587,
   "metadata": {},
   "outputs": [],
   "source": [
    "chrome_path = '/Users/sukhmansingh/Downloads/chromedriver'\n",
    "driver = webdriver.Chrome(chrome_path)"
   ]
  },
  {
   "cell_type": "code",
   "execution_count": 588,
   "metadata": {},
   "outputs": [],
   "source": [
    "# Maximize the browser window\n",
    "driver.maximize_window()"
   ]
  },
  {
   "cell_type": "code",
   "execution_count": 589,
   "metadata": {},
   "outputs": [],
   "source": [
    "#navigate to google translate page \n",
    "driver.get(\"https://translate.google.co.in/\")"
   ]
  },
  {
   "cell_type": "code",
   "execution_count": 582,
   "metadata": {},
   "outputs": [],
   "source": [
    "#Automating language option on the translate side as 'Hindi' \n",
    "driver.find_element_by_xpath(\"\"\"//*[@class=\"tl-more tlid-open-target-language-list\"]\"\"\").click()\n",
    "time.sleep(3)\n",
    "# driver.implicitly_wait(10)\n",
    "# driver.find_element_by_xpath(\"\"\"//div[@class=\"language_list_item language_list_item_language_name\"]\"\"\").click()\n",
    "driver.find_element_by_xpath(\"\"\"//*[@class=\"language_list_item_wrapper language_list_item_wrapper-hi\"]\"\"\").click()\n",
    "\n",
    "\n",
    "\n",
    "\n",
    "# #Automating language option on the left side (source) as 'English'\n",
    "# time.sleep(3)\n",
    "driver.find_element_by_xpath(\"\"\"//*[@class=\"sl-more tlid-open-source-language-list\"]\"\"\").click()\n",
    "time.sleep(3)\n",
    "driver.find_element_by_xpath(\"\"\"//*[@class=\"language_list_item_wrapper language_list_item_wrapper-en\"]\"\"\").click()\n"
   ]
  },
  {
   "cell_type": "code",
   "execution_count": 329,
   "metadata": {},
   "outputs": [],
   "source": [
    "df_trans = pd.read_csv('Marati_Other_Meaning.csv')"
   ]
  },
  {
   "cell_type": "code",
   "execution_count": 276,
   "metadata": {},
   "outputs": [],
   "source": [
    "#Using first 5000 words for translation\n",
    "df_trans_350 = df_trans.head(350)"
   ]
  },
  {
   "cell_type": "code",
   "execution_count": 303,
   "metadata": {},
   "outputs": [],
   "source": [
    "#find element\n",
    "#text_field = driver.find_elements_by_class_name(\"text\")\n",
    "#text_field = driver.find_element_by_class_name(\"tlid-input-area input-area less-padding\")\n",
    "text_field = driver.find_element_by_xpath(\"\"\"//*[@id=\"source\"]\"\"\")\n",
    "#text_field.send_keys(\"\\n\".join(df_trans_350['English']))\n",
    "\n",
    "#not required because the text is already entered into the textbox\n",
    "#text_field.send_keys(Keys.ENTER)\n"
   ]
  },
  {
   "cell_type": "code",
   "execution_count": 313,
   "metadata": {},
   "outputs": [],
   "source": [
    "#To clear the text field \n",
    "text_field.clear()\n",
    "\n"
   ]
  },
  {
   "cell_type": "code",
   "execution_count": 584,
   "metadata": {},
   "outputs": [
    {
     "name": "stdout",
     "output_type": "stream",
     "text": [
      "sukhman\n",
      "है\n",
      "ए\n",
      "अच्छा\n",
      "लड़की\n"
     ]
    }
   ],
   "source": [
    "translations = driver.find_elements_by_xpath(\"\"\"//*[@class=\"result-shield-container tlid-copy-target\"]\"\"\")\n",
    "\n",
    "for post in translations:\n",
    "    print(post.text)\n",
    "    \n",
    "    "
   ]
  },
  {
   "cell_type": "code",
   "execution_count": 280,
   "metadata": {},
   "outputs": [
    {
     "name": "stdout",
     "output_type": "stream",
     "text": [
      "350\n"
     ]
    }
   ],
   "source": [
    "list_hindi = post.text.splitlines()\n",
    "#se = pd.Series(list_t)\n",
    "#df['new_col'] = se.values\n",
    "#df_trans_5000['Hindi'] = se.values\n",
    "#print(len(se.values))\n",
    "print(len(list_hindi))"
   ]
  },
  {
   "cell_type": "code",
   "execution_count": 281,
   "metadata": {},
   "outputs": [
    {
     "name": "stdout",
     "output_type": "stream",
     "text": [
      "350\n"
     ]
    }
   ],
   "source": [
    "#Usinf first 5000 words for translation\n",
    "\n",
    "english_list = df_trans_350['English'].to_list()\n",
    "print(len(english_list))"
   ]
  },
  {
   "cell_type": "code",
   "execution_count": 287,
   "metadata": {},
   "outputs": [
    {
     "data": {
      "text/html": [
       "<div>\n",
       "<style scoped>\n",
       "    .dataframe tbody tr th:only-of-type {\n",
       "        vertical-align: middle;\n",
       "    }\n",
       "\n",
       "    .dataframe tbody tr th {\n",
       "        vertical-align: top;\n",
       "    }\n",
       "\n",
       "    .dataframe thead th {\n",
       "        text-align: right;\n",
       "    }\n",
       "</style>\n",
       "<table border=\"1\" class=\"dataframe\">\n",
       "  <thead>\n",
       "    <tr style=\"text-align: right;\">\n",
       "      <th></th>\n",
       "      <th>English</th>\n",
       "      <th>Hindi</th>\n",
       "    </tr>\n",
       "  </thead>\n",
       "  <tbody>\n",
       "    <tr>\n",
       "      <td>0</td>\n",
       "      <td>reheating</td>\n",
       "      <td>बार-बार गर्म</td>\n",
       "    </tr>\n",
       "    <tr>\n",
       "      <td>1</td>\n",
       "      <td>misapply</td>\n",
       "      <td>अनुचित कार्य में लगाना</td>\n",
       "    </tr>\n",
       "    <tr>\n",
       "      <td>2</td>\n",
       "      <td>alkylarenes</td>\n",
       "      <td>alkylarenes</td>\n",
       "    </tr>\n",
       "    <tr>\n",
       "      <td>3</td>\n",
       "      <td>imaginary parts</td>\n",
       "      <td>काल्पनिक भाग</td>\n",
       "    </tr>\n",
       "    <tr>\n",
       "      <td>4</td>\n",
       "      <td>sketch-book</td>\n",
       "      <td>स्केच पुस्तक</td>\n",
       "    </tr>\n",
       "    <tr>\n",
       "      <td>...</td>\n",
       "      <td>...</td>\n",
       "      <td>...</td>\n",
       "    </tr>\n",
       "    <tr>\n",
       "      <td>345</td>\n",
       "      <td>1mm</td>\n",
       "      <td>1 मिमी</td>\n",
       "    </tr>\n",
       "    <tr>\n",
       "      <td>346</td>\n",
       "      <td>great strides</td>\n",
       "      <td>उल्लेखनीय प्रगति</td>\n",
       "    </tr>\n",
       "    <tr>\n",
       "      <td>347</td>\n",
       "      <td>dichlorodiphenyltrichloroethane</td>\n",
       "      <td>dichlorodiphenyltrichloroethane</td>\n",
       "    </tr>\n",
       "    <tr>\n",
       "      <td>348</td>\n",
       "      <td>not care less</td>\n",
       "      <td>कम देखभाल नहीं</td>\n",
       "    </tr>\n",
       "    <tr>\n",
       "      <td>349</td>\n",
       "      <td>gravitas</td>\n",
       "      <td>गंभीरता</td>\n",
       "    </tr>\n",
       "  </tbody>\n",
       "</table>\n",
       "<p>350 rows × 2 columns</p>\n",
       "</div>"
      ],
      "text/plain": [
       "                             English                            Hindi\n",
       "0                          reheating                     बार-बार गर्म\n",
       "1                           misapply           अनुचित कार्य में लगाना\n",
       "2                        alkylarenes                      alkylarenes\n",
       "3                    imaginary parts                     काल्पनिक भाग\n",
       "4                        sketch-book                     स्केच पुस्तक\n",
       "..                               ...                              ...\n",
       "345                              1mm                           1 मिमी\n",
       "346                    great strides                 उल्लेखनीय प्रगति\n",
       "347  dichlorodiphenyltrichloroethane  dichlorodiphenyltrichloroethane\n",
       "348                    not care less                   कम देखभाल नहीं\n",
       "349                         gravitas                          गंभीरता\n",
       "\n",
       "[350 rows x 2 columns]"
      ]
     },
     "execution_count": 287,
     "metadata": {},
     "output_type": "execute_result"
    }
   ],
   "source": [
    "df_final = pd.DataFrame({'English': english_list, 'Hindi': list_hindi})\n",
    "df_final"
   ]
  },
  {
   "cell_type": "code",
   "execution_count": 528,
   "metadata": {},
   "outputs": [
    {
     "data": {
      "text/html": [
       "<div>\n",
       "<style scoped>\n",
       "    .dataframe tbody tr th:only-of-type {\n",
       "        vertical-align: middle;\n",
       "    }\n",
       "\n",
       "    .dataframe tbody tr th {\n",
       "        vertical-align: top;\n",
       "    }\n",
       "\n",
       "    .dataframe thead th {\n",
       "        text-align: right;\n",
       "    }\n",
       "</style>\n",
       "<table border=\"1\" class=\"dataframe\">\n",
       "  <thead>\n",
       "    <tr style=\"text-align: right;\">\n",
       "      <th></th>\n",
       "      <th>English</th>\n",
       "    </tr>\n",
       "  </thead>\n",
       "  <tbody>\n",
       "    <tr>\n",
       "      <td>0</td>\n",
       "      <td>reheating</td>\n",
       "    </tr>\n",
       "    <tr>\n",
       "      <td>1</td>\n",
       "      <td>misapply</td>\n",
       "    </tr>\n",
       "    <tr>\n",
       "      <td>2</td>\n",
       "      <td>alkylarenes</td>\n",
       "    </tr>\n",
       "    <tr>\n",
       "      <td>3</td>\n",
       "      <td>imaginary parts</td>\n",
       "    </tr>\n",
       "    <tr>\n",
       "      <td>4</td>\n",
       "      <td>sketch-book</td>\n",
       "    </tr>\n",
       "    <tr>\n",
       "      <td>5</td>\n",
       "      <td>inconsistent equation</td>\n",
       "    </tr>\n",
       "    <tr>\n",
       "      <td>6</td>\n",
       "      <td>bradycardia</td>\n",
       "    </tr>\n",
       "    <tr>\n",
       "      <td>7</td>\n",
       "      <td>suface</td>\n",
       "    </tr>\n",
       "    <tr>\n",
       "      <td>8</td>\n",
       "      <td>eurocheque</td>\n",
       "    </tr>\n",
       "    <tr>\n",
       "      <td>9</td>\n",
       "      <td>acosmism</td>\n",
       "    </tr>\n",
       "    <tr>\n",
       "      <td>10</td>\n",
       "      <td>cover-up</td>\n",
       "    </tr>\n",
       "    <tr>\n",
       "      <td>11</td>\n",
       "      <td>l mol–1k–1</td>\n",
       "    </tr>\n",
       "    <tr>\n",
       "      <td>12</td>\n",
       "      <td>13.3a</td>\n",
       "    </tr>\n",
       "    <tr>\n",
       "      <td>13</td>\n",
       "      <td>one of these days</td>\n",
       "    </tr>\n",
       "    <tr>\n",
       "      <td>14</td>\n",
       "      <td>accommodated</td>\n",
       "    </tr>\n",
       "    <tr>\n",
       "      <td>15</td>\n",
       "      <td>liquid hydrogen</td>\n",
       "    </tr>\n",
       "    <tr>\n",
       "      <td>16</td>\n",
       "      <td>right ventricle</td>\n",
       "    </tr>\n",
       "    <tr>\n",
       "      <td>17</td>\n",
       "      <td>confine</td>\n",
       "    </tr>\n",
       "    <tr>\n",
       "      <td>18</td>\n",
       "      <td>word phenone</td>\n",
       "    </tr>\n",
       "    <tr>\n",
       "      <td>19</td>\n",
       "      <td>unit cell × mass</td>\n",
       "    </tr>\n",
       "  </tbody>\n",
       "</table>\n",
       "</div>"
      ],
      "text/plain": [
       "                  English\n",
       "0               reheating\n",
       "1                misapply\n",
       "2             alkylarenes\n",
       "3         imaginary parts\n",
       "4             sketch-book\n",
       "5   inconsistent equation\n",
       "6             bradycardia\n",
       "7                  suface\n",
       "8              eurocheque\n",
       "9                acosmism\n",
       "10               cover-up\n",
       "11             l mol–1k–1\n",
       "12                  13.3a\n",
       "13      one of these days\n",
       "14           accommodated\n",
       "15        liquid hydrogen\n",
       "16        right ventricle\n",
       "17                confine\n",
       "18           word phenone\n",
       "19       unit cell × mass"
      ]
     },
     "execution_count": 528,
     "metadata": {},
     "output_type": "execute_result"
    }
   ],
   "source": [
    "df_temp = df_trans.head(20)\n",
    "df_temp"
   ]
  },
  {
   "cell_type": "code",
   "execution_count": 531,
   "metadata": {},
   "outputs": [
    {
     "name": "stdout",
     "output_type": "stream",
     "text": [
      "Batch: 1\n",
      "Batch: 2\n",
      "Batch: 3\n",
      "Batch: 4\n"
     ]
    }
   ],
   "source": [
    "list_text = []\n",
    "d = {}\n",
    "\n",
    "for i, row in df_temp.iterrows():\n",
    "    list_text.append(row['English'])   \n",
    "    if((i+1)%5 == 0):\n",
    "        print(\"Batch:\",int(i/5)+1)\n",
    "        eng_text_batch ='\\n'.join(list_text)\n",
    "\n",
    "        text_field = driver.find_element_by_xpath(\"\"\"//*[@id=\"source\"]\"\"\")\n",
    "        text_field.send_keys(eng_text_batch)\n",
    "        time.sleep(3)\n",
    "        hindi_trans = driver.find_elements_by_xpath(\"\"\"//*[@class=\"result-shield-container tlid-copy-target\"]\"\"\")\n",
    "        hindi_list = hindi_trans[0].text.split(\"\\n\")\n",
    "        \n",
    "        for j in range(len(list_text)):\n",
    "            eng_text_key = list_text[j]\n",
    "            hindi_value = hindi_list[j]\n",
    "            d[eng_text_key] = hindi_value\n",
    "            \n",
    "        list_text = []\n",
    "        text_field.clear()\n",
    "\n",
    "\n",
    "    \n",
    "\n",
    "\n"
   ]
  },
  {
   "cell_type": "code",
   "execution_count": 530,
   "metadata": {},
   "outputs": [
    {
     "name": "stdout",
     "output_type": "stream",
     "text": [
      "{'reheating': 'बार-बार गर्म', 'misapply': 'अनुचित कार्य में लगाना', 'alkylarenes': 'alkylarenes', 'imaginary parts': 'काल्पनिक भाग', 'sketch-book': 'स्केच पुस्तक', 'inconsistent equation': 'असंगत समीकरण', 'bradycardia': 'मंदनाड़ी', 'suface': 'suface', 'eurocheque': 'eurocheque', 'acosmism': 'acosmism', 'cover-up': 'छिपाना', 'l mol–1k–1': 'l मोल -1 क -1', '13.3a': '13.3a', 'one of these days': 'इन दिनों में', 'accommodated': 'समायोजित', 'liquid hydrogen': 'तरल हाइड्रोजन', 'right ventricle': 'दाहिना वैंट्रिकल', 'confine': 'सीमित', 'word phenone': 'शब्द फेनोन', 'unit cell × mass': 'इकाई सेल × द्रव्यमान'}\n"
     ]
    }
   ],
   "source": [
    "print(d)"
   ]
  },
  {
   "cell_type": "code",
   "execution_count": 422,
   "metadata": {},
   "outputs": [
    {
     "name": "stdout",
     "output_type": "stream",
     "text": [
      "0\n",
      "1\n",
      "2\n",
      "3\n",
      "4\n",
      "done\n",
      "5\n",
      "6\n",
      "7\n",
      "8\n",
      "9\n",
      "done\n",
      "10\n",
      "11\n",
      "12\n",
      "13\n",
      "14\n",
      "done\n",
      "15\n",
      "16\n",
      "17\n",
      "18\n",
      "19\n",
      "done\n"
     ]
    }
   ],
   "source": [
    "text_field.clear()"
   ]
  },
  {
   "cell_type": "code",
   "execution_count": 459,
   "metadata": {},
   "outputs": [
    {
     "data": {
      "text/plain": [
       "'abcde'"
      ]
     },
     "execution_count": 459,
     "metadata": {},
     "output_type": "execute_result"
    }
   ],
   "source": [
    "list_sex = ['a','b','c','d','e']\n",
    "\n",
    "target = 'abcde'\n",
    "\n",
    "#print(list_sex[0] + list_sex[1] + list_sex[2])\n",
    "\n",
    "''.join(list_sex)\n",
    "\n"
   ]
  },
  {
   "cell_type": "code",
   "execution_count": 468,
   "metadata": {},
   "outputs": [
    {
     "name": "stdout",
     "output_type": "stream",
     "text": [
      "reheating\n",
      "misapply\n",
      "alkylarenes\n",
      "imaginary parts\n",
      "sketch-book\n",
      "--------------------\n",
      "inconsistent equation\n",
      "bradycardia\n",
      "suface\n",
      "eurocheque\n",
      "acosmism\n",
      "--------------------\n",
      "cover-up\n",
      "l mol–1k–1\n",
      "13.3a\n",
      "one of these days\n",
      "accommodated\n",
      "--------------------\n"
     ]
    }
   ],
   "source": [
    "list_text = []\n",
    "for i, row in df_temp.iterrows():\n",
    "    #print(i,row['English'])\n",
    "    list_text.append(row['English'])\n",
    "    if((i+1)%5 == 0):\n",
    "        x ='\\n'.join(list_text)\n",
    "        list_text = []\n",
    "        print(x)\n",
    "        print('-'*20)\n",
    "        \n",
    "#print(list_text)\n",
    "\n"
   ]
  },
  {
   "cell_type": "code",
   "execution_count": 524,
   "metadata": {},
   "outputs": [],
   "source": []
  },
  {
   "cell_type": "code",
   "execution_count": 525,
   "metadata": {},
   "outputs": [],
   "source": []
  },
  {
   "cell_type": "code",
   "execution_count": null,
   "metadata": {},
   "outputs": [],
   "source": []
  }
 ],
 "metadata": {
  "kernelspec": {
   "display_name": "Python 3",
   "language": "python",
   "name": "python3"
  },
  "language_info": {
   "codemirror_mode": {
    "name": "ipython",
    "version": 3
   },
   "file_extension": ".py",
   "mimetype": "text/x-python",
   "name": "python",
   "nbconvert_exporter": "python",
   "pygments_lexer": "ipython3",
   "version": "3.7.4"
  }
 },
 "nbformat": 4,
 "nbformat_minor": 2
}
